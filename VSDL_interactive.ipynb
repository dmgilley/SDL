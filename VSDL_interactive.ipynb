{
 "cells": [
  {
   "cell_type": "code",
   "execution_count": 5,
   "metadata": {},
   "outputs": [],
   "source": [
    "# Imports\n",
    "from SDL import strategy,world\n",
    "from SDL.utility import *"
   ]
  },
  {
   "cell_type": "markdown",
   "metadata": {},
   "source": [
    "First, a \"campaign\" or list of campaigns will be created. A campaign consists of an instance of SDL.utility.CampaignInfo. It is a vessel for carrying all information necessary to perform a set of (V)SDL runs. It begines with building an environment. To do so, declare the relevant experiments instances from SDL.world. Check that module for the current options. Then, decide which environment to build. Current option is only VSDLEnvironment. Then, the ML agent will ne to be declared. Decide which to use from SDL.strategy, then feed it the necessary arguments (if deviating from defaults). Finally, you are ready to put it all together into a CampaignInfo instance. You can adjust some campaign arguments, like the number of runs to perform, the sampling procedure, the campaign name, etc."
   ]
  },
  {
   "cell_type": "code",
   "execution_count": 9,
   "metadata": {},
   "outputs": [],
   "source": [
    "# Create the experiments\n",
    "experiments = {\n",
    "    'BladeCoat': world.BladeCoat(action_space=['Stability'],inputs={'temperature':[0,400], 'time':[0,300]},cost=10.0),\n",
    "    'Stability': world.Stability(cost=10.0),\n",
    "}\n",
    "\n",
    "# Create the environment\n",
    "environment = world.VSDLEnvironment(experiments=experiments)\n",
    "\n",
    "# Create the agent\n",
    "agent = strategy.ArchitectureOne(epsilon=0.3)\n",
    "\n",
    "# Combine into a campagin\n",
    "campaign1 = CampaignInfo(\n",
    "    name = 'Architecture Zero -- Environment 000',\n",
    "    runs = 2,\n",
    "    environment = environment,\n",
    "    agent = agent,\n",
    "    sampling_procedure = [\n",
    "        ('number_of_initial_datapoints', 3),\n",
    "        ('number_of_batches', 2),\n",
    "        ('samples_per_batch', 2)\n",
    "        ],\n",
    ")\n",
    "\n",
    "# Create another campaign\n",
    "experiments = {\n",
    "    'BladeCoat': world.BladeCoat(action_space=['Stability'],inputs={'temperature':[0,400], 'time':[0,300]},cost=10.0),\n",
    "    'Stability': world.Stability(cost=10.0),\n",
    "}\n",
    "environment = world.VSDLEnvironment(experiments=experiments)\n",
    "agent = strategy.ArchitectureOne(epsilon=0.7)\n",
    "campaign2 = CampaignInfo(\n",
    "    name = 'Architecture Zero -- Environment 001',\n",
    "    runs = 2,\n",
    "    environment = environment,\n",
    "    agent = agent,\n",
    "    sampling_procedure = [\n",
    "        ('number_of_initial_datapoints', 2),\n",
    "        ('number_of_batches', 3),\n",
    "        ('samples_per_batch', 1)\n",
    "        ],\n",
    ")\n",
    "\n",
    "# Compile into a campaign list\n",
    "campaign_list = [campaign1,campaign2]"
   ]
  },
  {
   "cell_type": "markdown",
   "metadata": {},
   "source": [
    "Next, the campaigns are run. If the number of campaigns and the number of samples to be performed are small, they can be run right in this notebook. If there are many samples, many runs, and/or many campaigns, consider running them using HPC. To do this, dump the campaign list into a binary file using pickle. Then, use the runSDL.py module in this repo to read and run the binary file."
   ]
  },
  {
   "cell_type": "code",
   "execution_count": 10,
   "metadata": {},
   "outputs": [],
   "source": [
    "# Run campaign in notebook\n",
    "#for _ in campaign_list:\n",
    "#    _.run()\n",
    "\n",
    "# Dump to a binary input file, to be run on an HPC\n",
    "dump_campaign_list(campaign_list, 'my_VSDL_inputs - {} - .pkl'.format(datetime.datetime.now()))"
   ]
  },
  {
   "cell_type": "markdown",
   "metadata": {},
   "source": [
    "Next, read the output file (and optionally the MAE file) generated from a campaign. The data will be read in as an instance of SDL.utility.SDLOutputData."
   ]
  },
  {
   "cell_type": "code",
   "execution_count": 11,
   "metadata": {},
   "outputs": [
    {
     "name": "stdout",
     "output_type": "stream",
     "text": [
      "name Architecture Zero -- Environment 000\n",
      "color #\n",
      "calc_stability None\n",
      "runs 2\n",
      "sampling_procedure [('Initial Datapoints per Processing Variable', 3), ('Number of Batches', 2), ('Samples per Batch', 2)]\n",
      "states {1: [[[<material.State object at 0x7fe918b63d00>, <material.State object at 0x7fe9786fd5e0>], [<material.State object at 0x7fe978310550>, <material.State object at 0x7fe978310fd0>], [<material.State object at 0x7fe978310040>, <material.State object at 0x7fe9783109d0>], [<material.State object at 0x7fe978310760>, <material.State object at 0x7fe918d15f40>], [<material.State object at 0x7fe988515880>, <material.State object at 0x7fe988515220>], [<material.State object at 0x7fe9885158e0>, <material.State object at 0x7fe988515460>], [<material.State object at 0x7fe9885155e0>, <material.State object at 0x7fe9885157f0>], [<material.State object at 0x7fe988515280>, <material.State object at 0x7fe988515cd0>], [<material.State object at 0x7fe988515970>, <material.State object at 0x7fe988515bb0>]], [[<material.State object at 0x7fe988515d30>, <material.State object at 0x7fe988515580>], [<material.State object at 0x7fe9786dad00>, <material.State object at 0x7fe9786daee0>]], [[<material.State object at 0x7fe92892ee50>, <material.State object at 0x7fe92892ef40>], [<material.State object at 0x7fe92892efa0>, <material.State object at 0x7fe92892ed60>]]], 2: [[[<material.State object at 0x7fe92892eeb0>, <material.State object at 0x7fe92905d3a0>], [<material.State object at 0x7fe92905de20>, <material.State object at 0x7fe92905d5e0>], [<material.State object at 0x7fe92905dca0>, <material.State object at 0x7fe92905d700>], [<material.State object at 0x7fe92905dc10>, <material.State object at 0x7fe92905d850>], [<material.State object at 0x7fe92905d9d0>, <material.State object at 0x7fe92905de80>], [<material.State object at 0x7fe92905df70>, <material.State object at 0x7fe92905ddf0>], [<material.State object at 0x7fe92905db20>, <material.State object at 0x7fe92905daf0>], [<material.State object at 0x7fe92905d490>, <material.State object at 0x7fe92905d2e0>], [<material.State object at 0x7fe92905d1f0>, <material.State object at 0x7fe92905d520>]], [[<material.State object at 0x7fe92905d220>, <material.State object at 0x7fe92905d580>], [<material.State object at 0x7fe92905dcd0>, <material.State object at 0x7fe92905d250>]], [[<material.State object at 0x7fe92905d370>, <material.State object at 0x7fe92905d610>], [<material.State object at 0x7fe92905df40>, <material.State object at 0x7fe92905d2b0>]]]}\n",
      "rewards {1: [[[-10.0, -10.0], [-10.0, -10.0], [-10.0, -10.0], [-10.0, -10.0], [-10.0, -10.0], [-10.0, -10.0], [-10.0, -10.0], [-10.0, -10.0], [-10.0, -10.0]], [[-10.0, -10.0], [-10.0, -10.0]], [[-10.0, -9.999990247073718], [-10.0, -9.999990247073718]]], 2: [[[-10.0, -10.0], [-10.0, -10.0], [-10.0, -10.0], [-10.0, -10.0], [-10.0, -10.0], [-10.0, -10.0], [-10.0, -10.0], [-10.0, -10.0], [-10.0, -10.0]], [[-10.0, -10.0], [-10.0, -10.0]], [[-10.0, -9.999990247073718], [-10.0, -10.0]]]}\n",
      "predicted_stabilities {1: [[[[0.0, 1.0], [39.2, 0.0]], [[0.0, 1.0], [39.2, 0.0]], [[0.0, 1.0], [39.2, 0.0]], [[0.0, 1.0], [70.86666666666667, 0.0]], [[0.0, 1.0], [70.86666666666667, 0.0]], [[0.0, 1.0], [70.86666666666667, 0.0]], [[0.0, 1.0], [102.53333333333336, 0.0]], [[0.0, 1.0], [102.53333333333336, 0.0]], [[0.0, 1.0], [102.53333333333336, 0.0]]], [[[0.0, 1.0], [39.727769921424894, 0.0]], [[0.0, 1.0], [39.22615725050068, 0.0]]], [[[102.53333332308003, 1.0000000413701846e-05], [102.53333333333336, 0.0]], [[102.53333332308003, 1.0000000413701846e-05], [102.53333333333336, 0.0]]]], 2: [[[[0.0, 1.0], [39.2, 0.0]], [[0.0, 1.0], [39.2, 0.0]], [[0.0, 1.0], [39.2, 0.0]], [[0.0, 1.0], [70.86666666666667, 0.0]], [[0.0, 1.0], [70.86666666666667, 0.0]], [[0.0, 1.0], [70.86666666666667, 0.0]], [[0.0, 1.0], [102.53333333333336, 0.0]], [[0.0, 1.0], [102.53333333333336, 0.0]], [[0.0, 1.0], [102.53333333333336, 0.0]]], [[[0.0, 1.0], [56.055002325413675, 0.0]], [[0.0, 1.0], [46.478370970732776, 0.0]]], [[[102.53333332308003, 1.0000000413701846e-05], [102.53333333333336, 0.0]], [[0.0, 1.0], [56.055002325413675, 0.0]]]]}\n",
      "stabilities {1: [[39.2, 39.2, 39.2, 70.86666666666667, 70.86666666666667, 70.86666666666667, 102.53333333333336, 102.53333333333336, 102.53333333333336], [39.727769921424894, 39.22615725050068], [102.53333333333336, 102.53333333333336]], 2: [[39.2, 39.2, 39.2, 70.86666666666667, 70.86666666666667, 70.86666666666667, 102.53333333333336, 102.53333333333336, 102.53333333333336], [56.055002325413675, 46.478370970732776], [102.53333333333336, 56.055002325413675]]}\n",
      "GPRs {1: {'BladeCoat': {'kernel': {'length_scale': 1.0, 'length_scale_bounds': [1e-05, 100000.0]}, 'alpha': 1e-10, 'optimizer': 'fmin_l_bfgs_b', 'n_restarts_optimizer': 5, 'normalize_y': False, 'copy_X_train': True, 'n_targets': None, 'random_state': None, 'kernel_': {'length_scale': 63.62588809130328, 'length_scale_bounds': [1e-05, 100000.0]}, '_rng': \"Not jsonable (<class 'numpy.random.mtrand.RandomState'>)\", 'n_features_in_': 2, '_y_train_mean': \"Not jsonable (<class 'numpy.ndarray'>)\", '_y_train_std': \"Not jsonable (<class 'numpy.ndarray'>)\", 'X_train_': \"Not jsonable (<class 'numpy.ndarray'>)\", 'y_train_': \"Not jsonable (<class 'numpy.ndarray'>)\", 'log_marginal_likelihood_value_': -33583.65555689818, 'L_': \"Not jsonable (<class 'numpy.ndarray'>)\", 'alpha_': \"Not jsonable (<class 'numpy.ndarray'>)\"}}, 2: {'BladeCoat': {'kernel': {'length_scale': 1.0, 'length_scale_bounds': [1e-05, 100000.0]}, 'alpha': 1e-10, 'optimizer': 'fmin_l_bfgs_b', 'n_restarts_optimizer': 5, 'normalize_y': False, 'copy_X_train': True, 'n_targets': None, 'random_state': None, 'kernel_': {'length_scale': 62.593420418446925, 'length_scale_bounds': [1e-05, 100000.0]}, '_rng': \"Not jsonable (<class 'numpy.random.mtrand.RandomState'>)\", 'n_features_in_': 2, '_y_train_mean': \"Not jsonable (<class 'numpy.ndarray'>)\", '_y_train_std': \"Not jsonable (<class 'numpy.ndarray'>)\", 'X_train_': \"Not jsonable (<class 'numpy.ndarray'>)\", 'y_train_': \"Not jsonable (<class 'numpy.ndarray'>)\", 'log_marginal_likelihood_value_': -35003.74307815056, 'L_': \"Not jsonable (<class 'numpy.ndarray'>)\", 'alpha_': \"Not jsonable (<class 'numpy.ndarray'>)\"}}}\n",
      "savfs {1: {'BladeCoat': [109, 2.7633303805798692e+54], 'Stability': [109, 2.7633303805798684e+55]}, 2: {'BladeCoat': [109, 1.2057488191517676e+303], 'Stability': [109, 1.205748819151766e+304]}}\n"
     ]
    }
   ],
   "source": [
    "# Read in output from a campaign\n",
    "data = read_output('Architecture Zero -- Environment 000.out.txt')\n",
    "for k,v in data.__dict__.items():\n",
    "    print(k,v)"
   ]
  },
  {
   "cell_type": "code",
   "execution_count": 19,
   "metadata": {},
   "outputs": [],
   "source": [
    "blade_coat = world.BladeCoat(inputs={'temperature': [0, 400], 'time': [0, 300]})\n",
    "reference_inputs = blade_coat.get_input_space()[1]\n",
    "reference_targets = world.g1(reference_inputs[:,0]/400,p2=reference_inputs[:,1]/300)\n",
    "cumulative_MAEs = np.array([\n",
    "        get_cumulative_MAE(data,run,reference_inputs,reference_targets)\n",
    "            for run in range(1,data.runs+1)])"
   ]
  },
  {
   "cell_type": "code",
   "execution_count": 22,
   "metadata": {},
   "outputs": [
    {
     "data": {
      "text/plain": [
       "array([[20.03307681, 73.09567002, 20.13515907, 73.08970196, 17.20177432,\n",
       "        73.06187483, 16.38559755, 16.38559767, 73.04039472, 16.33327455,\n",
       "        16.33327467]])"
      ]
     },
     "execution_count": 22,
     "metadata": {},
     "output_type": "execute_result"
    }
   ],
   "source": [
    "cumulative_MAEs"
   ]
  },
  {
   "cell_type": "code",
   "execution_count": null,
   "metadata": {},
   "outputs": [],
   "source": []
  }
 ],
 "metadata": {
  "kernelspec": {
   "display_name": "base",
   "language": "python",
   "name": "python3"
  },
  "language_info": {
   "codemirror_mode": {
    "name": "ipython",
    "version": 3
   },
   "file_extension": ".py",
   "mimetype": "text/x-python",
   "name": "python",
   "nbconvert_exporter": "python",
   "pygments_lexer": "ipython3",
   "version": "3.8.19"
  }
 },
 "nbformat": 4,
 "nbformat_minor": 2
}
