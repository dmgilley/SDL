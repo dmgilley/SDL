{
 "cells": [
  {
   "cell_type": "code",
   "execution_count": 23,
   "metadata": {},
   "outputs": [],
   "source": [
    "# Imports\n",
    "import SDL\n",
    "from SDL.utility import *"
   ]
  },
  {
   "cell_type": "markdown",
   "metadata": {},
   "source": [
    "First, a \"campaign\" or list of campaigns will be created. A campaign consists of an instance of SDL.utility.CampaignInfo. It is a vessel for carrying all information necessary to perform a set of (V)SDL runs. It begines with building an environment. To do so, declare the relevant experiments instances from SDL.world. Check that module for the current options. Then, decide which environment to build. Current option is only VSDLEnvironment. Then, the ML agent will ne to be declared. Decide which to use from SDL.strategy, then feed it the necessary arguments (if deviating from defaults). Finally, you are ready to put it all together into a CampaignInfo instance. You can adjust some campaign arguments, like the number of runs to perform, the sampling procedure, the campaign name, etc."
   ]
  },
  {
   "cell_type": "code",
   "execution_count": 24,
   "metadata": {},
   "outputs": [],
   "source": [
    "# Create the experiments\n",
    "experiments = {\n",
    "    'BladeCoat': SDL.world.BladeCoat(action_space=['Stability'],inputs={'temperature':[0,400], 'time':[0,300]},cost=10.0),\n",
    "    'Stability': SDL.world.Stability(cost=10.0),\n",
    "}\n",
    "\n",
    "# Create the environment\n",
    "environment = SDL.world.VSDLEnvironment(experiments=experiments)\n",
    "\n",
    "# Create the agent\n",
    "agent = SDL.strategy.ArchitectureOne(epsilon=0.3)\n",
    "\n",
    "# Combine into a campagin\n",
    "campaign1 = CampaignInfo(\n",
    "    name = 'ArchitectureZero -- Environment 000',\n",
    "    runs = 1,\n",
    "    environment = environment,\n",
    "    agent = agent,\n",
    "    sampling_procedure = [\n",
    "        ('number_of_initial_datapoints', 3),\n",
    "        ('number_of_batches', 10),\n",
    "        ('samples_per_batch', 2)\n",
    "        ],\n",
    ")\n",
    "\n",
    "# Create another campaign\n",
    "experiments = {\n",
    "    'BladeCoat': SDL.world.BladeCoat(action_space=['Stability'],inputs={'temperature':[0,400], 'time':[0,300]},cost=10.0),\n",
    "    'Stability': SDL.world.Stability(cost=10.0),\n",
    "}\n",
    "environment = SDL.world.VSDLEnvironment(experiments=experiments)\n",
    "agent = SDL.strategy.ArchitectureOne(epsilon=0.5)\n",
    "campaign2 = CampaignInfo(\n",
    "    name = 'ArchitectureZero -- Environment 001',\n",
    "    runs = 1,\n",
    "    environment = environment,\n",
    "    agent = agent,\n",
    "    sampling_procedure = [\n",
    "        ('number_of_initial_datapoints', 4),\n",
    "        ('number_of_batches', 1),\n",
    "        ('samples_per_batch', 3)\n",
    "        ],\n",
    ")\n",
    "\n",
    "# Compile into a campaign list\n",
    "campaign_list = [campaign1]#,campaign2]"
   ]
  },
  {
   "cell_type": "markdown",
   "metadata": {},
   "source": [
    "Next, the campaigns are run. If the number of campaigns and the number of samples to be performed are small, they can be run right in this notebook. If there are many samples, many runs, and/or many campaigns, consider running them using HPC. To do this, dump the campaign list into a binary file using pickle. Then, use the runSDL.py module in this repo to read and run the binary file."
   ]
  },
  {
   "cell_type": "code",
   "execution_count": 25,
   "metadata": {},
   "outputs": [],
   "source": [
    "# Run campaign in notebook\n",
    "#for _ in campaign_list:\n",
    "#    _.run()\n",
    "\n",
    "# Dump to a binary input file, to be run on an HPC\n",
    "dump_campaign_list(campaign_list, 'my_VSDL_inputs {} .pkl'.format(datetime.datetime.now()))"
   ]
  },
  {
   "cell_type": "markdown",
   "metadata": {},
   "source": [
    "Next, read the output file (and optionally the MAE file) generated from a campaign. The data will be read in as an instance of SDL.utility.SDLOutputData."
   ]
  },
  {
   "cell_type": "code",
   "execution_count": 11,
   "metadata": {},
   "outputs": [
    {
     "name": "stdout",
     "output_type": "stream",
     "text": [
      "name ArchitectureZero -- Environment 000\n",
      "color #\n",
      "calc_stability None\n",
      "runs 1\n",
      "sampling_procedure [('Initial Datapoints per Processing Variable', 3), ('Number of Batches', 10), ('Samples per Batch', 2)]\n",
      "states {1: [[[<SDL.material.State object at 0x7fe160781b20>, <SDL.material.State object at 0x7fe160781d00>], [<SDL.material.State object at 0x7fe1408a7250>, <SDL.material.State object at 0x7fe1607728b0>], [<SDL.material.State object at 0x7fe160772d00>, <SDL.material.State object at 0x7fe1607927c0>], [<SDL.material.State object at 0x7fe1607924c0>, <SDL.material.State object at 0x7fe148db64c0>], [<SDL.material.State object at 0x7fe1607875b0>, <SDL.material.State object at 0x7fe160787a90>], [<SDL.material.State object at 0x7fe16078ce50>, <SDL.material.State object at 0x7fe170b50bb0>], [<SDL.material.State object at 0x7fe160873310>, <SDL.material.State object at 0x7fe160873d00>], [<SDL.material.State object at 0x7fe148f29670>, <SDL.material.State object at 0x7fe1609d7cd0>], [<SDL.material.State object at 0x7fe1609d7e80>, <SDL.material.State object at 0x7fe1609d78e0>]], [[<SDL.material.State object at 0x7fe1609d7880>, <SDL.material.State object at 0x7fe148f2f5b0>], [<SDL.material.State object at 0x7fe1609e8970>, <SDL.material.State object at 0x7fe1609e8be0>]], [[<SDL.material.State object at 0x7fe1609e8bb0>, <SDL.material.State object at 0x7fe1609e8f40>], [<SDL.material.State object at 0x7fe1609e8c10>, <SDL.material.State object at 0x7fe1609f7790>]], [[<SDL.material.State object at 0x7fe1609f7e20>, <SDL.material.State object at 0x7fe1609f7e50>], [<SDL.material.State object at 0x7fe1609f7ac0>, <SDL.material.State object at 0x7fe1609f79a0>]], [[<SDL.material.State object at 0x7fe1609f7430>, <SDL.material.State object at 0x7fe1609f79d0>], [<SDL.material.State object at 0x7fe1609f75e0>, <SDL.material.State object at 0x7fe1609f7b20>]], [[<SDL.material.State object at 0x7fe1609f7d60>, <SDL.material.State object at 0x7fe1609f7850>], [<SDL.material.State object at 0x7fe1609f7eb0>, <SDL.material.State object at 0x7fe1609f7fa0>]], [[<SDL.material.State object at 0x7fe1609f72e0>, <SDL.material.State object at 0x7fe1609f7880>], [<SDL.material.State object at 0x7fe1609f7520>, <SDL.material.State object at 0x7fe1609f7b50>]], [[<SDL.material.State object at 0x7fe1609f72b0>, <SDL.material.State object at 0x7fe1609f7580>], [<SDL.material.State object at 0x7fe1609f7550>, <SDL.material.State object at 0x7fe1609f7c10>]], [[<SDL.material.State object at 0x7fe1609f7640>, <SDL.material.State object at 0x7fe1609f73a0>], [<SDL.material.State object at 0x7fe1609f73d0>, <SDL.material.State object at 0x7fe1408a2f40>]], [[<SDL.material.State object at 0x7fe1408a2850>, <SDL.material.State object at 0x7fe1704e5f10>], [<SDL.material.State object at 0x7fe160847670>, <SDL.material.State object at 0x7fe160847550>]], [[<SDL.material.State object at 0x7fe160847790>, <SDL.material.State object at 0x7fe1503e2c70>], [<SDL.material.State object at 0x7fe1408d4190>, <SDL.material.State object at 0x7fe1408d4280>]]]}\n",
      "rewards {1: [[[-10.0, -10.0], [-10.0, -10.0], [-10.0, -10.0], [-10.0, -10.0], [-10.0, -10.0], [-10.0, -10.0], [-10.0, -10.0], [-10.0, -10.0], [-10.0, -10.0]], [[-10.0, -9.973987081636885], [-10.0, -9.920598375156878]], [[-10.0, -9.973987081636885], [-10.0, -9.973987081636885]], [[-10.0, -9.866541566707527], [-10.0, -9.999994369145385]], [[-10.0, -10.0], [-10.0, -10.0]], [[-10.0, 5.9115691365930684e+199], [-10.0, -10.0]], [[-10.0, -9.921910322915718], [-10.0, -9.921910322915718]], [[-10.0, -9.921910322915718], [-10.0, -9.921910322915718]], [[-10.0, -9.921910322915718], [-10.0, inf]], [[-10.0, -9.999996953617842], [-10.0, -9.999996953617842]], [[-10.0, -9.999996953617842], [-10.0, -9.999996953617842]]]}\n",
      "predicted_stabilities {1: [[[[0.0, 1.0], [39.2, 0.0]], [[0.0, 1.0], [39.2, 0.0]], [[0.0, 1.0], [39.2, 0.0]], [[0.0, 1.0], [70.86666666666667, 0.0]], [[0.0, 1.0], [70.86666666666667, 0.0]], [[0.0, 1.0], [70.86666666666667, 0.0]], [[0.0, 1.0], [102.53333333333336, 0.0]], [[0.0, 1.0], [102.53333333333336, 0.0]], [[0.0, 1.0], [102.53333333333336, 0.0]]], [[[102.8557666387199, 0.0267557866074858], [102.53333333333336, 0.0]], [[89.6960499479926, 0.07122012107880502], [78.52161830925809, 0.0]]], [[[102.8557666387199, 0.0267557866074858], [102.53333333333336, 0.0]], [[102.8557666387199, 0.0267557866074858], [102.53333333333336, 0.0]]], [[[53.37069572589154, 0.07122769435306818], [58.461033320230136, 0.0]], [[102.53333332991558, 5.77350293074713e-06], [102.53333333333336, 0.0]]], [[[0.0, 1.0], [135.33278900744023, 0.0]], [[0.0, 1.0], [48.70822969657862, 0.0]]], [[[1.6915982489486977e-198, 1.0], [48.70822969657862, 0.0]], [[0.0, 1.0], [58.461033320230136, 0.0]]], [[[139.8279850408352, 0.10919122199184743], [146.8015471594905, 0.0]], [[139.8279850408352, 0.10919122199184743], [146.8015471594905, 0.0]]], [[[139.8279850408352, 0.10919122199184743], [146.8015471594905, 0.0]], [[139.8279850408352, 0.10919122199184743], [146.8015471594905, 0.0]]], [[[139.8279850408352, 0.10919122199184743], [146.8015471594905, 0.0]], [[5.32007e-318, 1.0], [67.28202837565478, 0.0]]], [[[146.80154715655448, 4.472136140012669e-06], [146.8015471594905, 0.0]], [[146.80154715655448, 4.472136140012669e-06], [146.8015471594905, 0.0]]], [[[146.80154715655448, 4.472136140012669e-06], [146.8015471594905, 0.0]], [[146.80154715655448, 4.472136140012669e-06], [146.8015471594905, 0.0]]]]}\n",
      "stabilities {1: [[39.2, 39.2, 39.2, 70.86666666666667, 70.86666666666667, 70.86666666666667, 102.53333333333336, 102.53333333333336, 102.53333333333336], [102.53333333333336, 78.52161830925809], [102.53333333333336, 102.53333333333336], [58.461033320230136, 102.53333333333336], [135.33278900744023, 48.70822969657862], [48.70822969657862, 58.461033320230136], [146.8015471594905, 146.8015471594905], [146.8015471594905, 146.8015471594905], [146.8015471594905, 67.28202837565478], [146.8015471594905, 146.8015471594905], [146.8015471594905, 146.8015471594905]]}\n",
      "GPRs {1: {'BladeCoat': {'kernel': {'length_scale': 1.0, 'length_scale_bounds': [1e-05, 100000.0]}, 'alpha': 1e-10, 'optimizer': 'fmin_l_bfgs_b', 'n_restarts_optimizer': 5, 'normalize_y': False, 'copy_X_train': True, 'n_targets': None, 'random_state': None, 'kernel_': {'length_scale': 59.26918322651051, 'length_scale_bounds': [1e-05, 100000.0]}, '_rng': \"Not jsonable (<class 'numpy.random.mtrand.RandomState'>)\", 'n_features_in_': 2, '_y_train_mean': \"Not jsonable (<class 'numpy.ndarray'>)\", '_y_train_std': \"Not jsonable (<class 'numpy.ndarray'>)\", 'X_train_': \"Not jsonable (<class 'numpy.ndarray'>)\", 'y_train_': \"Not jsonable (<class 'numpy.ndarray'>)\", 'log_marginal_likelihood_value_': -47163.96598172784, 'L_': \"Not jsonable (<class 'numpy.ndarray'>)\", 'alpha_': \"Not jsonable (<class 'numpy.ndarray'>)\"}}}\n",
      "savfs {1: {'BladeCoat': [109, nan], 'Stability': [109, nan]}}\n"
     ]
    }
   ],
   "source": [
    "# Read in output from a campaign\n",
    "data = read_output('ArchitectureZero -- Environment 000.out.txt')\n",
    "for k,v in data.__dict__.items():\n",
    "    print(k,v)"
   ]
  },
  {
   "cell_type": "code",
   "execution_count": 19,
   "metadata": {},
   "outputs": [],
   "source": [
    "blade_coat = SDL.world.BladeCoat(inputs={'temperature': [0, 400], 'time': [0, 300]})\n",
    "reference_inputs = blade_coat.get_input_space()[1]\n",
    "reference_targets = SDL.world.g1(reference_inputs[:,0]/400,p2=reference_inputs[:,1]/300)\n",
    "cumulative_MAEs = np.array([\n",
    "        get_cumulative_MAE(data,run,reference_inputs,reference_targets)\n",
    "            for run in range(1,data.runs+1)])"
   ]
  },
  {
   "cell_type": "code",
   "execution_count": 22,
   "metadata": {},
   "outputs": [
    {
     "data": {
      "text/plain": [
       "array([[20.03307681, 73.09567002, 20.13515907, 73.08970196, 17.20177432,\n",
       "        73.06187483, 16.38559755, 16.38559767, 73.04039472, 16.33327455,\n",
       "        16.33327467]])"
      ]
     },
     "execution_count": 22,
     "metadata": {},
     "output_type": "execute_result"
    }
   ],
   "source": [
    "cumulative_MAEs"
   ]
  },
  {
   "cell_type": "code",
   "execution_count": null,
   "metadata": {},
   "outputs": [],
   "source": []
  }
 ],
 "metadata": {
  "kernelspec": {
   "display_name": "base",
   "language": "python",
   "name": "python3"
  },
  "language_info": {
   "codemirror_mode": {
    "name": "ipython",
    "version": 3
   },
   "file_extension": ".py",
   "mimetype": "text/x-python",
   "name": "python",
   "nbconvert_exporter": "python",
   "pygments_lexer": "ipython3",
   "version": "3.8.19"
  }
 },
 "nbformat": 4,
 "nbformat_minor": 2
}
